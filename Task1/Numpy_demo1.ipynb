{
 "cells": [
  {
   "cell_type": "code",
   "execution_count": 6,
   "metadata": {},
   "outputs": [
    {
     "name": "stdout",
     "output_type": "stream",
     "text": [
      "[[ 0  1  2  3  4]\n",
      " [ 5  6  7  8  9]\n",
      " [10 11 12 13 14]\n",
      " [15 16 17 18 19]\n",
      " [20 21 22 23 24]]\n",
      "[[ 5  6  7  8  9]\n",
      " [ 0  1  2  3  4]\n",
      " [10 11 12 13 14]\n",
      " [15 16 17 18 19]\n",
      " [20 21 22 23 24]]\n"
     ]
    }
   ],
   "source": [
    "import numpy as np\n",
    "#交换矩阵的其中两行\n",
    "a = np.arange(25).reshape(5,5)\n",
    "print a\n",
    "a[[0,1]] = a[[1,0]]\n",
    "print a"
   ]
  },
  {
   "cell_type": "code",
   "execution_count": 7,
   "metadata": {},
   "outputs": [
    {
     "name": "stdout",
     "output_type": "stream",
     "text": [
      "5\n"
     ]
    }
   ],
   "source": [
    "#找出数组中与给定值最接近的数\n",
    "z = np.array([[0,1,2,3],[4,5,6,7]])\n",
    "a = 5.1\n",
    "print np.abs(z-a).argmin()"
   ]
  },
  {
   "cell_type": "code",
   "execution_count": 9,
   "metadata": {},
   "outputs": [
    {
     "name": "stdout",
     "output_type": "stream",
     "text": [
      "[[1 1 2 0 0 1 1 0 2 2]\n",
      " [0 0 2 1 0 2 1 0 1 0]]\n",
      "[ True  True  True  True False  True  True False  True  True]\n"
     ]
    }
   ],
   "source": [
    "#判断二维矩阵中有没有一整列数为0？\n",
    "z = np.random.randint(0,3,(2,10))\n",
    "print z\n",
    "print z.any(axis=0)"
   ]
  },
  {
   "cell_type": "code",
   "execution_count": 15,
   "metadata": {},
   "outputs": [
    {
     "name": "stdout",
     "output_type": "stream",
     "text": [
      "Help on built-in function randint:\n",
      "\n",
      "randint(...)\n",
      "    randint(low, high=None, size=None)\n",
      "    \n",
      "    Return random integers from `low` (inclusive) to `high` (exclusive).\n",
      "    \n",
      "    Return random integers from the \"discrete uniform\" distribution in the\n",
      "    \"half-open\" interval [`low`, `high`). If `high` is None (the default),\n",
      "    then results are from [0, `low`).\n",
      "    \n",
      "    Parameters\n",
      "    ----------\n",
      "    low : int\n",
      "        Lowest (signed) integer to be drawn from the distribution (unless\n",
      "        ``high=None``, in which case this parameter is the *highest* such\n",
      "        integer).\n",
      "    high : int, optional\n",
      "        If provided, one above the largest (signed) integer to be drawn\n",
      "        from the distribution (see above for behavior if ``high=None``).\n",
      "    size : int or tuple of ints, optional\n",
      "        Output shape.  If the given shape is, e.g., ``(m, n, k)``, then\n",
      "        ``m * n * k`` samples are drawn.  Default is None, in which case a\n",
      "        single value is returned.\n",
      "    \n",
      "    Returns\n",
      "    -------\n",
      "    out : int or ndarray of ints\n",
      "        `size`-shaped array of random integers from the appropriate\n",
      "        distribution, or a single such random int if `size` not provided.\n",
      "    \n",
      "    See Also\n",
      "    --------\n",
      "    random.random_integers : similar to `randint`, only for the closed\n",
      "        interval [`low`, `high`], and 1 is the lowest value if `high` is\n",
      "        omitted. In particular, this other one is the one to use to generate\n",
      "        uniformly distributed discrete non-integers.\n",
      "    \n",
      "    Examples\n",
      "    --------\n",
      "    >>> np.random.randint(2, size=10)\n",
      "    array([1, 0, 0, 0, 1, 1, 0, 0, 1, 0])\n",
      "    >>> np.random.randint(1, size=10)\n",
      "    array([0, 0, 0, 0, 0, 0, 0, 0, 0, 0])\n",
      "    \n",
      "    Generate a 2 x 4 array of ints between 0 and 4, inclusive:\n",
      "    \n",
      "    >>> np.random.randint(5, size=(2, 4))\n",
      "    array([[4, 0, 2, 1],\n",
      "           [3, 2, 2, 0]])\n",
      "\n"
     ]
    }
   ],
   "source": [
    "#生成二维的高斯矩阵\n",
    "help(np.random.randint)"
   ]
  },
  {
   "cell_type": "code",
   "execution_count": 14,
   "metadata": {},
   "outputs": [
    {
     "name": "stdout",
     "output_type": "stream",
     "text": [
      "[[-1.         -0.77777778 -0.55555556 -0.33333333 -0.11111111  0.11111111\n",
      "   0.33333333  0.55555556  0.77777778  1.        ]\n",
      " [-1.         -0.77777778 -0.55555556 -0.33333333 -0.11111111  0.11111111\n",
      "   0.33333333  0.55555556  0.77777778  1.        ]\n",
      " [-1.         -0.77777778 -0.55555556 -0.33333333 -0.11111111  0.11111111\n",
      "   0.33333333  0.55555556  0.77777778  1.        ]\n",
      " [-1.         -0.77777778 -0.55555556 -0.33333333 -0.11111111  0.11111111\n",
      "   0.33333333  0.55555556  0.77777778  1.        ]\n",
      " [-1.         -0.77777778 -0.55555556 -0.33333333 -0.11111111  0.11111111\n",
      "   0.33333333  0.55555556  0.77777778  1.        ]\n",
      " [-1.         -0.77777778 -0.55555556 -0.33333333 -0.11111111  0.11111111\n",
      "   0.33333333  0.55555556  0.77777778  1.        ]\n",
      " [-1.         -0.77777778 -0.55555556 -0.33333333 -0.11111111  0.11111111\n",
      "   0.33333333  0.55555556  0.77777778  1.        ]\n",
      " [-1.         -0.77777778 -0.55555556 -0.33333333 -0.11111111  0.11111111\n",
      "   0.33333333  0.55555556  0.77777778  1.        ]\n",
      " [-1.         -0.77777778 -0.55555556 -0.33333333 -0.11111111  0.11111111\n",
      "   0.33333333  0.55555556  0.77777778  1.        ]\n",
      " [-1.         -0.77777778 -0.55555556 -0.33333333 -0.11111111  0.11111111\n",
      "   0.33333333  0.55555556  0.77777778  1.        ]]\n",
      "[[-1.         -1.         -1.         -1.         -1.         -1.         -1.\n",
      "  -1.         -1.         -1.        ]\n",
      " [-0.77777778 -0.77777778 -0.77777778 -0.77777778 -0.77777778 -0.77777778\n",
      "  -0.77777778 -0.77777778 -0.77777778 -0.77777778]\n",
      " [-0.55555556 -0.55555556 -0.55555556 -0.55555556 -0.55555556 -0.55555556\n",
      "  -0.55555556 -0.55555556 -0.55555556 -0.55555556]\n",
      " [-0.33333333 -0.33333333 -0.33333333 -0.33333333 -0.33333333 -0.33333333\n",
      "  -0.33333333 -0.33333333 -0.33333333 -0.33333333]\n",
      " [-0.11111111 -0.11111111 -0.11111111 -0.11111111 -0.11111111 -0.11111111\n",
      "  -0.11111111 -0.11111111 -0.11111111 -0.11111111]\n",
      " [ 0.11111111  0.11111111  0.11111111  0.11111111  0.11111111  0.11111111\n",
      "   0.11111111  0.11111111  0.11111111  0.11111111]\n",
      " [ 0.33333333  0.33333333  0.33333333  0.33333333  0.33333333  0.33333333\n",
      "   0.33333333  0.33333333  0.33333333  0.33333333]\n",
      " [ 0.55555556  0.55555556  0.55555556  0.55555556  0.55555556  0.55555556\n",
      "   0.55555556  0.55555556  0.55555556  0.55555556]\n",
      " [ 0.77777778  0.77777778  0.77777778  0.77777778  0.77777778  0.77777778\n",
      "   0.77777778  0.77777778  0.77777778  0.77777778]\n",
      " [ 1.          1.          1.          1.          1.          1.          1.\n",
      "   1.          1.          1.        ]]\n",
      "[[ 1.41421356  1.26686158  1.1439589   1.05409255  1.0061539   1.0061539\n",
      "   1.05409255  1.1439589   1.26686158  1.41421356]\n",
      " [ 1.26686158  1.09994388  0.95581392  0.84619701  0.7856742   0.7856742\n",
      "   0.84619701  0.95581392  1.09994388  1.26686158]\n",
      " [ 1.1439589   0.95581392  0.7856742   0.64788354  0.56655772  0.56655772\n",
      "   0.64788354  0.7856742   0.95581392  1.1439589 ]\n",
      " [ 1.05409255  0.84619701  0.64788354  0.47140452  0.35136418  0.35136418\n",
      "   0.47140452  0.64788354  0.84619701  1.05409255]\n",
      " [ 1.0061539   0.7856742   0.56655772  0.35136418  0.15713484  0.15713484\n",
      "   0.35136418  0.56655772  0.7856742   1.0061539 ]\n",
      " [ 1.0061539   0.7856742   0.56655772  0.35136418  0.15713484  0.15713484\n",
      "   0.35136418  0.56655772  0.7856742   1.0061539 ]\n",
      " [ 1.05409255  0.84619701  0.64788354  0.47140452  0.35136418  0.35136418\n",
      "   0.47140452  0.64788354  0.84619701  1.05409255]\n",
      " [ 1.1439589   0.95581392  0.7856742   0.64788354  0.56655772  0.56655772\n",
      "   0.64788354  0.7856742   0.95581392  1.1439589 ]\n",
      " [ 1.26686158  1.09994388  0.95581392  0.84619701  0.7856742   0.7856742\n",
      "   0.84619701  0.95581392  1.09994388  1.26686158]\n",
      " [ 1.41421356  1.26686158  1.1439589   1.05409255  1.0061539   1.0061539\n",
      "   1.05409255  1.1439589   1.26686158  1.41421356]]\n",
      "[[ 0.36787944  0.44822088  0.51979489  0.57375342  0.60279818  0.60279818\n",
      "   0.57375342  0.51979489  0.44822088  0.36787944]\n",
      " [ 0.44822088  0.54610814  0.63331324  0.69905581  0.73444367  0.73444367\n",
      "   0.69905581  0.63331324  0.54610814  0.44822088]\n",
      " [ 0.51979489  0.63331324  0.73444367  0.81068432  0.85172308  0.85172308\n",
      "   0.81068432  0.73444367  0.63331324  0.51979489]\n",
      " [ 0.57375342  0.69905581  0.81068432  0.89483932  0.9401382   0.9401382\n",
      "   0.89483932  0.81068432  0.69905581  0.57375342]\n",
      " [ 0.60279818  0.73444367  0.85172308  0.9401382   0.98773022  0.98773022\n",
      "   0.9401382   0.85172308  0.73444367  0.60279818]\n",
      " [ 0.60279818  0.73444367  0.85172308  0.9401382   0.98773022  0.98773022\n",
      "   0.9401382   0.85172308  0.73444367  0.60279818]\n",
      " [ 0.57375342  0.69905581  0.81068432  0.89483932  0.9401382   0.9401382\n",
      "   0.89483932  0.81068432  0.69905581  0.57375342]\n",
      " [ 0.51979489  0.63331324  0.73444367  0.81068432  0.85172308  0.85172308\n",
      "   0.81068432  0.73444367  0.63331324  0.51979489]\n",
      " [ 0.44822088  0.54610814  0.63331324  0.69905581  0.73444367  0.73444367\n",
      "   0.69905581  0.63331324  0.54610814  0.44822088]\n",
      " [ 0.36787944  0.44822088  0.51979489  0.57375342  0.60279818  0.60279818\n",
      "   0.57375342  0.51979489  0.44822088  0.36787944]]\n"
     ]
    }
   ],
   "source": [
    "x,y = np.meshgrid(np.linspace(-1,1,10),np.linspace(-1,1,10))\n",
    "print x\n",
    "print y\n",
    "D = np.sqrt(x**2+y**2)\n",
    "print D\n",
    "sigma,mu = 1,0\n",
    "a = np.exp(-(D-mu)**2/(2*sigma**2))\n",
    "print a"
   ]
  },
  {
   "cell_type": "code",
   "execution_count": 2,
   "metadata": {},
   "outputs": [
    {
     "name": "stdout",
     "output_type": "stream",
     "text": [
      "[ 0  1  2  3  4  5  6  7  8  9 10 11 12 13 14]\n"
     ]
    }
   ],
   "source": [
    "import numpy as np\n",
    "print(np.arange(15))"
   ]
  },
  {
   "cell_type": "code",
   "execution_count": 3,
   "metadata": {},
   "outputs": [],
   "source": [
    "a = np.arange(15).reshape(3,5)"
   ]
  },
  {
   "cell_type": "code",
   "execution_count": 4,
   "metadata": {},
   "outputs": [
    {
     "data": {
      "text/plain": [
       "array([[ 0,  1,  2,  3,  4],\n",
       "       [ 5,  6,  7,  8,  9],\n",
       "       [10, 11, 12, 13, 14]])"
      ]
     },
     "execution_count": 4,
     "metadata": {},
     "output_type": "execute_result"
    }
   ],
   "source": [
    "a "
   ]
  },
  {
   "cell_type": "code",
   "execution_count": 5,
   "metadata": {},
   "outputs": [
    {
     "data": {
      "text/plain": [
       "(3, 5)"
      ]
     },
     "execution_count": 5,
     "metadata": {},
     "output_type": "execute_result"
    }
   ],
   "source": [
    "a.shape"
   ]
  },
  {
   "cell_type": "code",
   "execution_count": 6,
   "metadata": {},
   "outputs": [
    {
     "data": {
      "text/plain": [
       "15"
      ]
     },
     "execution_count": 6,
     "metadata": {},
     "output_type": "execute_result"
    }
   ],
   "source": [
    "a.size"
   ]
  },
  {
   "cell_type": "code",
   "execution_count": 7,
   "metadata": {},
   "outputs": [
    {
     "data": {
      "text/plain": [
       "array([[0., 0., 0., 0., 0.],\n",
       "       [0., 0., 0., 0., 0.],\n",
       "       [0., 0., 0., 0., 0.]])"
      ]
     },
     "execution_count": 7,
     "metadata": {},
     "output_type": "execute_result"
    }
   ],
   "source": [
    "np.zeros((3,5))"
   ]
  },
  {
   "cell_type": "code",
   "execution_count": 8,
   "metadata": {},
   "outputs": [
    {
     "data": {
      "text/plain": [
       "array([[[1, 1, 1, 1],\n",
       "        [1, 1, 1, 1],\n",
       "        [1, 1, 1, 1]],\n",
       "\n",
       "       [[1, 1, 1, 1],\n",
       "        [1, 1, 1, 1],\n",
       "        [1, 1, 1, 1]]])"
      ]
     },
     "execution_count": 8,
     "metadata": {},
     "output_type": "execute_result"
    }
   ],
   "source": [
    "np.ones((2,3,4),dtype = np.int32)"
   ]
  },
  {
   "cell_type": "code",
   "execution_count": 9,
   "metadata": {},
   "outputs": [
    {
     "data": {
      "text/plain": [
       "array([10, 15, 20, 25])"
      ]
     },
     "execution_count": 9,
     "metadata": {},
     "output_type": "execute_result"
    }
   ],
   "source": [
    "np.arange(10,30,5)"
   ]
  },
  {
   "cell_type": "code",
   "execution_count": 10,
   "metadata": {},
   "outputs": [
    {
     "data": {
      "text/plain": [
       "array([[0.49727851, 0.46492319, 0.73120795],\n",
       "       [0.42984738, 0.58499333, 0.97155774]])"
      ]
     },
     "execution_count": 10,
     "metadata": {},
     "output_type": "execute_result"
    }
   ],
   "source": [
    "np.random.random((2,3))"
   ]
  },
  {
   "cell_type": "code",
   "execution_count": 11,
   "metadata": {},
   "outputs": [
    {
     "data": {
      "text/plain": [
       "array([0.        , 0.06346652, 0.12693304, 0.19039955, 0.25386607,\n",
       "       0.31733259, 0.38079911, 0.44426563, 0.50773215, 0.57119866,\n",
       "       0.63466518, 0.6981317 , 0.76159822, 0.82506474, 0.88853126,\n",
       "       0.95199777, 1.01546429, 1.07893081, 1.14239733, 1.20586385,\n",
       "       1.26933037, 1.33279688, 1.3962634 , 1.45972992, 1.52319644,\n",
       "       1.58666296, 1.65012947, 1.71359599, 1.77706251, 1.84052903,\n",
       "       1.90399555, 1.96746207, 2.03092858, 2.0943951 , 2.15786162,\n",
       "       2.22132814, 2.28479466, 2.34826118, 2.41172769, 2.47519421,\n",
       "       2.53866073, 2.60212725, 2.66559377, 2.72906028, 2.7925268 ,\n",
       "       2.85599332, 2.91945984, 2.98292636, 3.04639288, 3.10985939,\n",
       "       3.17332591, 3.23679243, 3.30025895, 3.36372547, 3.42719199,\n",
       "       3.4906585 , 3.55412502, 3.61759154, 3.68105806, 3.74452458,\n",
       "       3.8079911 , 3.87145761, 3.93492413, 3.99839065, 4.06185717,\n",
       "       4.12532369, 4.1887902 , 4.25225672, 4.31572324, 4.37918976,\n",
       "       4.44265628, 4.5061228 , 4.56958931, 4.63305583, 4.69652235,\n",
       "       4.75998887, 4.82345539, 4.88692191, 4.95038842, 5.01385494,\n",
       "       5.07732146, 5.14078798, 5.2042545 , 5.26772102, 5.33118753,\n",
       "       5.39465405, 5.45812057, 5.52158709, 5.58505361, 5.64852012,\n",
       "       5.71198664, 5.77545316, 5.83891968, 5.9023862 , 5.96585272,\n",
       "       6.02931923, 6.09278575, 6.15625227, 6.21971879, 6.28318531])"
      ]
     },
     "execution_count": 11,
     "metadata": {},
     "output_type": "execute_result"
    }
   ],
   "source": [
    "from numpy import pi\n",
    "np.linspace(0,2*pi,100)#起始值为0 重点2Π 共计100个数"
   ]
  },
  {
   "cell_type": "code",
   "execution_count": 20,
   "metadata": {},
   "outputs": [
    {
     "name": "stdout",
     "output_type": "stream",
     "text": [
      "[20 30 40 50]\n",
      "[0 1 2 3]\n",
      "[20 29 38 47]\n",
      "[19 28 37 46]\n"
     ]
    }
   ],
   "source": [
    "a = np.array([20,30,40,50])\n",
    "b = np.arange(4)\n",
    "print(a)\n",
    "print(b)\n",
    "c = a- b\n",
    "print(c)\n",
    "c = c - 1 \n",
    "print(c)"
   ]
  },
  {
   "cell_type": "code",
   "execution_count": 29,
   "metadata": {},
   "outputs": [
    {
     "name": "stdout",
     "output_type": "stream",
     "text": [
      "[[20 30]\n",
      " [40 50]]\n",
      "[[0 1]\n",
      " [2 3]]\n",
      "-------按位相乘a*b-------\n",
      "[[  0  30]\n",
      " [ 80 150]]\n",
      "-----矩阵乘法------\n",
      "[[ 60 110]\n",
      " [100 190]]\n",
      "[[ 60 110]\n",
      " [100 190]]\n"
     ]
    }
   ],
   "source": [
    "a = a.reshape(2,2)\n",
    "b = b.reshape(2,2)\n",
    "print(a)\n",
    "print(b)\n",
    "print(\"-------按位相乘a*b-------\")\n",
    "print(a*b)\n",
    "print(\"-----矩阵乘法------\")\n",
    "print(a.dot(b))\n",
    "print(np.dot(a,b))"
   ]
  },
  {
   "cell_type": "code",
   "execution_count": 30,
   "metadata": {},
   "outputs": [
    {
     "name": "stdout",
     "output_type": "stream",
     "text": [
      "[1.         2.71828183 7.3890561 ]\n"
     ]
    }
   ],
   "source": [
    "b = np.arange(3)\n",
    "print(np.exp(b))"
   ]
  },
  {
   "cell_type": "code",
   "execution_count": 38,
   "metadata": {},
   "outputs": [
    {
     "name": "stdout",
     "output_type": "stream",
     "text": [
      "[[0. 7. 8. 6.]\n",
      " [2. 6. 6. 1.]\n",
      " [4. 5. 6. 5.]]\n",
      "[0. 7. 8. 6. 2. 6. 6. 1. 4. 5. 6. 5.]\n",
      "[[0. 7.]\n",
      " [8. 6.]\n",
      " [2. 6.]\n",
      " [6. 1.]\n",
      " [4. 5.]\n",
      " [6. 5.]]\n",
      "[[0. 8. 2. 6. 4. 6.]\n",
      " [7. 6. 6. 1. 5. 5.]]\n",
      "[[0. 7. 8. 6.]\n",
      " [2. 6. 6. 1.]\n",
      " [4. 5. 6. 5.]]\n"
     ]
    }
   ],
   "source": [
    "a = np.floor(10*np.random.random((3,4)))\n",
    "#random生成 -1 到 1 的随机值  floor 向下取整\n",
    "print(a)\n",
    "print(a.ravel())\n",
    "#将 （m，n）变成 （m*n，1）\n",
    "a.shape = (6,2)\n",
    "print(a)\n",
    "print(a.T)\n",
    "a = a.reshape(3,-1)\n",
    "#用-1 就会自动帮你转化成 3 行 某列的 矩阵\n",
    "print(a)"
   ]
  },
  {
   "cell_type": "code",
   "execution_count": 42,
   "metadata": {},
   "outputs": [
    {
     "name": "stdout",
     "output_type": "stream",
     "text": [
      "[[4. 0.]\n",
      " [4. 2.]]\n",
      "---------\n",
      "[[7. 7.]\n",
      " [2. 9.]]\n",
      "[[4. 0. 7. 7.]\n",
      " [4. 2. 2. 9.]]\n",
      "[[4. 0.]\n",
      " [4. 2.]\n",
      " [7. 7.]\n",
      " [2. 9.]]\n"
     ]
    }
   ],
   "source": [
    "a= np.floor(10*np.random.random((2,2)))\n",
    "b= np.floor(10*np.random.random((2,2)))\n",
    "print(a)\n",
    "print('---------')\n",
    "print(b)\n",
    "print(np.hstack((a,b))) #横着拼接\n",
    "print(np.vstack((a,b)))#纵向拼接"
   ]
  },
  {
   "cell_type": "code",
   "execution_count": 51,
   "metadata": {},
   "outputs": [
    {
     "name": "stdout",
     "output_type": "stream",
     "text": [
      "[[5. 2. 2. 9. 2. 6. 1. 7. 3. 2. 1. 3.]\n",
      " [6. 6. 2. 7. 9. 7. 9. 3. 5. 6. 8. 8.]]\n",
      "---\n",
      "[array([[5., 2., 2., 9.],\n",
      "       [6., 6., 2., 7.]]), array([[2., 6., 1., 7.],\n",
      "       [9., 7., 9., 3.]]), array([[3., 2., 1., 3.],\n",
      "       [5., 6., 8., 8.]])]\n",
      "[array([[5., 2., 2.],\n",
      "       [6., 6., 2.]]), array([[9.],\n",
      "       [7.]]), array([[2., 6., 1., 7., 3., 2., 1., 3.],\n",
      "       [9., 7., 9., 3., 5., 6., 8., 8.]])]\n"
     ]
    }
   ],
   "source": [
    "a= np.floor(10*np.random.random((2,12)))\n",
    "print(a)\n",
    "print('---')\n",
    "print(np.hsplit(a,3))#横向切割 成三个(2,4)的array\n",
    "print(np.hsplit(a,(3,4)))#在第3列 第4列切两刀\n",
    "\n",
    "\n"
   ]
  },
  {
   "cell_type": "code",
   "execution_count": 58,
   "metadata": {},
   "outputs": [
    {
     "name": "stdout",
     "output_type": "stream",
     "text": [
      "True\n",
      "(3, 4)\n",
      "2743940492384\n",
      "2743940492384\n"
     ]
    }
   ],
   "source": [
    "a = np.arange(12)\n",
    "b = a \n",
    "print(b is a )\n",
    "b.shape=(3,4)\n",
    "print(a.shape)\n",
    "print(id(a))\n",
    "print(id(b))\n",
    "#地址相同"
   ]
  },
  {
   "cell_type": "code",
   "execution_count": 60,
   "metadata": {},
   "outputs": [
    {
     "name": "stdout",
     "output_type": "stream",
     "text": [
      "False\n",
      "(3, 4)\n",
      "[[  0   1   2   3]\n",
      " [123   5   6   7]\n",
      " [  8   9  10  11]]\n",
      "2743940492384\n",
      "2743940492944\n"
     ]
    }
   ],
   "source": [
    "c = a.view()\n",
    "print(c is a)\n",
    "c.shape = 2,6\n",
    "print(a.shape)\n",
    "c[0,4] = 123\n",
    "print(a)\n",
    "print(id(a))\n",
    "print(id(c))\n",
    "#地址不同 但是地址共用同一批数值"
   ]
  },
  {
   "cell_type": "code",
   "execution_count": 61,
   "metadata": {},
   "outputs": [
    {
     "name": "stdout",
     "output_type": "stream",
     "text": [
      "False\n",
      "[[  0   1   2   3]\n",
      " [123   5   6   7]\n",
      " [  8   9  10  11]]\n",
      "[[999   1   2   3]\n",
      " [123   5   6   7]\n",
      " [  8   9  10  11]]\n"
     ]
    }
   ],
   "source": [
    "d = a.copy()\n",
    "print(d is a)\n",
    "d[0,0]=999\n",
    "print(a)\n",
    "print(d)"
   ]
  },
  {
   "cell_type": "code",
   "execution_count": 64,
   "metadata": {},
   "outputs": [
    {
     "name": "stdout",
     "output_type": "stream",
     "text": [
      "[[ 0.          0.84147098  0.90929743  0.14112001]\n",
      " [-0.7568025  -0.95892427 -0.2794155   0.6569866 ]\n",
      " [ 0.98935825  0.41211849 -0.54402111 -0.99999021]\n",
      " [-0.53657292  0.42016704  0.99060736  0.65028784]\n",
      " [-0.28790332 -0.96139749 -0.75098725  0.14987721]]\n",
      "[2 0 3 1]\n",
      "[0.98935825 0.84147098 0.99060736 0.6569866 ]\n"
     ]
    }
   ],
   "source": [
    "data = np.sin(np.arange(20).reshape(5,4))\n",
    "print(data)\n",
    "ind = data.argmax(axis = 0)#索引每列的最大值 \n",
    "print(ind)\n",
    "data_max = data[ind,range(data.shape[1])]\n",
    "print(data_max)"
   ]
  },
  {
   "cell_type": "code",
   "execution_count": 67,
   "metadata": {},
   "outputs": [
    {
     "name": "stdout",
     "output_type": "stream",
     "text": [
      "[ 0 10 20 30]\n",
      "[[ 0 10 20 30  0 10 20 30  0 10 20 30]\n",
      " [ 0 10 20 30  0 10 20 30  0 10 20 30]]\n"
     ]
    }
   ],
   "source": [
    "a = np.arange(0,40,10)\n",
    "print(a)\n",
    "b = np.tile(a,(2,3))#行和列扩展成 2 ， 3 \n",
    "print(b)"
   ]
  },
  {
   "cell_type": "code",
   "execution_count": 74,
   "metadata": {},
   "outputs": [
    {
     "name": "stdout",
     "output_type": "stream",
     "text": [
      "[[4 2 3]\n",
      " [1 2 0]]\n",
      "[[2 3 4]\n",
      " [0 1 2]]\n",
      "[2 3 1 0]\n",
      "[1 2 3 4]\n"
     ]
    }
   ],
   "source": [
    "a = np.array([[4,2,3],[1,2,0]])\n",
    "print(a)\n",
    "print(np.sort(a,axis = 1))\n",
    "a = np.array([4,3,1,2])\n",
    "print(np.argsort(a)) #排序值的索引\n",
    "print(a[np.argsort(a)])"
   ]
  },
  {
   "cell_type": "code",
   "execution_count": 69,
   "metadata": {},
   "outputs": [
    {
     "name": "stdout",
     "output_type": "stream",
     "text": [
      "None\n"
     ]
    }
   ],
   "source": []
  },
  {
   "cell_type": "code",
   "execution_count": null,
   "metadata": {},
   "outputs": [],
   "source": []
  }
 ],
 "metadata": {
  "kernelspec": {
   "display_name": "Python 3",
   "language": "python",
   "name": "python3"
  },
  "language_info": {
   "codemirror_mode": {
    "name": "ipython",
    "version": 3
   },
   "file_extension": ".py",
   "mimetype": "text/x-python",
   "name": "python",
   "nbconvert_exporter": "python",
   "pygments_lexer": "ipython3",
   "version": "3.7.3"
  }
 },
 "nbformat": 4,
 "nbformat_minor": 1
}
